{
  "nbformat": 4,
  "nbformat_minor": 0,
  "metadata": {
    "colab": {
      "provenance": [],
      "authorship_tag": "ABX9TyPQh1Tjis8pY7/SHAUikCLd",
      "include_colab_link": true
    },
    "kernelspec": {
      "name": "python3",
      "display_name": "Python 3"
    },
    "language_info": {
      "name": "python"
    }
  },
  "cells": [
    {
      "cell_type": "markdown",
      "metadata": {
        "id": "view-in-github",
        "colab_type": "text"
      },
      "source": [
        "<a href=\"https://colab.research.google.com/github/flytkins/Athlete_registration_system/blob/master/%D0%9C%D0%B0%D1%82_%D0%BC%D0%BE%D0%B4%D0%B5%D0%BB%D0%B8%D1%80%D0%BE%D0%B2%D0%B0%D0%BD%D0%B8%D0%B5_%D0%B8%D0%BE%D0%BD%D0%BE%D1%81%D1%84%D0%B5%D1%80%D1%8B.ipynb\" target=\"_parent\"><img src=\"https://colab.research.google.com/assets/colab-badge.svg\" alt=\"Open In Colab\"/></a>"
      ]
    },
    {
      "cell_type": "markdown",
      "source": [
        "#Лабораторная работа №1\n",
        "Фотохимическая модель ионосферы"
      ],
      "metadata": {
        "id": "Z54F3pDnWwk4"
      }
    },
    {
      "cell_type": "code",
      "source": [
        "import math\n",
        "import numpy as np\n",
        "import matplotlib.pyplot as plt"
      ],
      "metadata": {
        "id": "D_CUrdacZJ9T"
      },
      "execution_count": 33,
      "outputs": []
    },
    {
      "cell_type": "markdown",
      "source": [
        "q = l(n) - уравнение фотохимического равновесия или уравнение баланся ионизации в единице объема, определяющее концентрацию электронов (ионов).\n",
        "\n",
        "q и l(n) - скорости образования и исчезновения электронов (ионов)\n",
        "\n",
        "n - концентрация электронов (ионов)"
      ],
      "metadata": {
        "id": "EARUxKw2Xyyy"
      }
    },
    {
      "cell_type": "code",
      "source": [
        "h0 = 100 #km"
      ],
      "metadata": {
        "id": "a_vaJ3oaZVRR"
      },
      "execution_count": 34,
      "outputs": []
    },
    {
      "cell_type": "markdown",
      "source": [
        "T=288K (стандартная температура на уровне моря),\n",
        "\n",
        "m=4.8×10^(-26) kg (средняя масса молекулы воздуха),\n",
        "\n",
        "𝑔=9.8 м/с\n",
        "\n",
        "k — постоянная Больцмана (1.38×10^(−23) Дж/К),"
      ],
      "metadata": {
        "id": "25JLo07Kab0f"
      }
    },
    {
      "cell_type": "code",
      "source": [
        "T = 288\n",
        "mj = 4.8 * pow(10, -26)\n",
        "g = 9.8\n",
        "k = 1.38 * pow(10, -23)"
      ],
      "metadata": {
        "id": "Dgx3NjQ1a_fn"
      },
      "execution_count": 35,
      "outputs": []
    },
    {
      "cell_type": "code",
      "source": [
        "H = (k * T) / 4* mj * g"
      ],
      "metadata": {
        "id": "4FYEbBlNZbje"
      },
      "execution_count": 36,
      "outputs": []
    },
    {
      "cell_type": "code",
      "source": [
        "H"
      ],
      "metadata": {
        "colab": {
          "base_uri": "https://localhost:8080/"
        },
        "id": "MF0t_PFfbsek",
        "outputId": "1d8f244f-3055-4880-861c-8e066d9f9216"
      },
      "execution_count": 37,
      "outputs": [
        {
          "output_type": "execute_result",
          "data": {
            "text/plain": [
              "4.6738944000000004e-46"
            ]
          },
          "metadata": {},
          "execution_count": 37
        }
      ]
    },
    {
      "cell_type": "code",
      "source": [
        "#Зададим высоту\n",
        "#h = 200"
      ],
      "metadata": {
        "id": "H4BqNpZ_b4Yz"
      },
      "execution_count": 38,
      "outputs": []
    },
    {
      "cell_type": "code",
      "execution_count": 39,
      "metadata": {
        "id": "mHmVpgpWWnjv"
      },
      "outputs": [],
      "source": [
        "#nj = nj0 * math.exp(-(h - h0) / H)"
      ]
    },
    {
      "cell_type": "code",
      "source": [
        "def calculate_concentration(h, H, h0=100e3, n_j0=1e10):\n",
        "    \"\"\"\n",
        "    Вычисляет концентрацию молекул воздуха на высоте h.\n",
        "    h  -- высота (в метрах)\n",
        "    h0 -- начальная высота, на которой известна концентрация (по умолчанию 100 км)\n",
        "    n_j0 -- концентрация молекул на высоте h0 (по умолчанию 1e10 молекул/м³)\n",
        "    H  -- характерная высота атмосферы (по умолчанию 8.5 км)\n",
        "    \"\"\"\n",
        "    return n_j0 * np.exp(-(h - h0) / H)"
      ],
      "metadata": {
        "id": "wvdOqmeL0tCf"
      },
      "execution_count": 40,
      "outputs": []
    },
    {
      "cell_type": "code",
      "source": [
        "def calculate_H(T, m, g=9.81, k=1.38e-23):\n",
        "    \"\"\"\n",
        "    T  -- температура (в Кельвинах)\n",
        "    m  -- масса молекулы газа (в килограммах)\n",
        "    g  -- ускорение свободного падения (по умолчанию 9.81 м/с²)\n",
        "    k  -- постоянная Больцмана (по умолчанию 1.38e-23 Дж/К)\n",
        "    \"\"\"\n",
        "    return (k * T) / (4 * m * g)"
      ],
      "metadata": {
        "id": "Gqzr567b4mGf"
      },
      "execution_count": 41,
      "outputs": []
    },
    {
      "cell_type": "code",
      "source": [
        "m_N2 = 4e-23\n",
        "m_O2 = 5.3533-23"
      ],
      "metadata": {
        "id": "h4UYKwCM5VXK"
      },
      "execution_count": 42,
      "outputs": []
    },
    {
      "cell_type": "code",
      "source": [
        "h = np.linspace(0, 120e3, 1000)  # от 0 до 120 км в метрах\n",
        "\n",
        "# Построение графика\n",
        "plt.figure(figsize=(10, 6))\n",
        "plt.plot(h / 1000, calculate_concentration(h, calculate_H(T, m_N2)))  # переводим h в км для оси X\n",
        "plt.yscale('log')  # логарифмическая шкала для оси Y\n",
        "plt.xlabel('Высота, км')\n",
        "plt.ylabel('Концентрация молекул, $n_j$ (молекул/м³)')\n",
        "plt.title('Зависимость концентрации молекул воздуха от высоты')\n",
        "plt.grid(True)\n",
        "plt.show()"
      ],
      "metadata": {
        "colab": {
          "base_uri": "https://localhost:8080/",
          "height": 668
        },
        "id": "4hSxsXe718dI",
        "outputId": "ecff4360-c7c5-49ef-8e25-4c1e626abc9f"
      },
      "execution_count": 43,
      "outputs": [
        {
          "output_type": "stream",
          "name": "stderr",
          "text": [
            "<ipython-input-40-00e2ce676eb6>:9: RuntimeWarning: overflow encountered in exp\n",
            "  return n_j0 * np.exp(-(h - h0) / H)\n",
            "<ipython-input-40-00e2ce676eb6>:9: RuntimeWarning: overflow encountered in multiply\n",
            "  return n_j0 * np.exp(-(h - h0) / H)\n",
            "/usr/local/lib/python3.10/dist-packages/matplotlib/scale.py:253: RuntimeWarning: overflow encountered in power\n",
            "  return np.power(self.base, a)\n"
          ]
        },
        {
          "output_type": "display_data",
          "data": {
            "text/plain": [
              "<Figure size 1000x600 with 1 Axes>"
            ],
            "image/png": "[encoded data removed]"
          },
          "metadata": {}
        }
      ]
    }
  ]
}